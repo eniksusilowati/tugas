{
 "cells": [
  {
   "cell_type": "code",
   "execution_count": null,
   "metadata": {
    "id": "rHy5qNEzCw4G"
   },
   "outputs": [],
   "source": []
  },
  {
   "cell_type": "markdown",
   "metadata": {
    "id": "01TN_fjwL-dN"
   },
   "source": [
    "Buatlah aplikasi Data Mahasiswa sebagai berikut:\n",
    "\n",
    "INPUT DATA MAHASISWA\n",
    "\n",
    "NIM    :\n",
    "\n",
    "NAMA   :\n",
    "\n",
    "ALAMAT :\n",
    "\n",
    "JURUSAN :\n",
    "\n",
    "KETERANGAN JURUSAN [1] SISTEM INFORMASI [2] TEKNIK INFORMATIKA\n",
    "\n",
    "Apakah Anda ingin memasukkan data lagi ? (Y) Ya ; (T) Tidak : \n",
    "\n",
    "\n"
   ]
  },
  {
   "cell_type": "markdown",
   "metadata": {
    "id": "NlRdQu4hNPdv"
   },
   "source": [
    "**Requirement I**\n",
    "\n",
    "Perulangan input akan terjadi jika user memasukkan “Y”, maka selanjutnya akan memasukkan data mahasiswa lagi dan jika user memasukkan data “T”, maka aplikasi berhenti, kemudian menampilkan data yang telah dimasukan.\n"
   ]
  },
  {
   "cell_type": "markdown",
   "metadata": {
    "id": "wj2BlsC-OFSW"
   },
   "source": [
    "**Requirement II**\n",
    "\n",
    "Desainlah aplikasi Data Mahasiswa tersebut dengan konsep enkapsulasi, constructor dan inheritance (tentukan parent class dan child class)."
   ]
  },
  {
   "cell_type": "markdown",
   "metadata": {
    "id": "cIX3WGqPOLzF"
   },
   "source": [
    "**Requirement III**\n",
    "\n",
    "Implementasikan class-class yang telah didesain dengan membuat program sederhana entri data Mahasiswa "
   ]
  },
  {
   "cell_type": "code",
   "execution_count": 36,
   "metadata": {},
   "outputs": [],
   "source": [
    "#Jawaban Tugas 6\n",
    "from IPython.display import clear_output\n",
    "import sys\n",
    "\n",
    "class Mahasiswa:\n",
    "        \n",
    "    data_Mahasiswa = []\n",
    "    def Data_Mahasiswa(self, Nim, Nama, Alamat, Jurusan):\n",
    "        self.Nim = []\n",
    "        self.Nama = []\n",
    "        self.Alamat = []\n",
    "        self.Jurusan = []\n",
    "        \n"
   ]
  },
  {
   "cell_type": "code",
   "execution_count": 37,
   "metadata": {},
   "outputs": [],
   "source": [
    "class turunan(Mahasiswa):  \n",
    "    \n",
    "    def Menampilkan_Data(self):\n",
    "        while True :\n",
    "            print(\"INPUT DATA MAHASISWA\")\n",
    "            Maba = Mahasiswa()\n",
    "            print()\n",
    "            print(\"Keterangan Jurusan [1] Sistem Informasi [2] Teknik Informatika\")\n",
    "            print() \n",
    "            Maba.Nim = input(\"Nim :\")\n",
    "            Maba.Nama = input(\"Nama :\")\n",
    "            Maba.Alamat = input(\"Alamat :\")\n",
    "            Maba.Jurusan = int(input(\"Jurusan :\"))\n",
    "            if Maba.Jurusan == 1:\n",
    "                Maba.Jurusan = \"Sistem Informasi\"\n",
    "            else:\n",
    "                Maba.Jurusan = \"Teknik Informatika\"\n",
    "            self.data_Mahasiswa.append(Maba)\n",
    "            pilih = input(\"Apakah Anda ingin memasukkan data lagi ? (Y) Ya ; (T) Tidak :\")\n",
    "            if pilih == 'y' or pilih == 'Y':\n",
    "                clear_output(wait=True)\n",
    "                self.Menampilkan_Data()\n",
    "            else:\n",
    "                clear_output(wait=True)   \n",
    "                self.tampil()\n",
    "                sys.exit()\n",
    "    \n",
    "    def tampil(self):\n",
    "        for x in self.data_Mahasiswa:\n",
    "            print(\"Nim     : \"+ x.Nim)\n",
    "            print(\"Nama    : \"+ x.Nama) \n",
    "            print(\"Alamat  : \"+ x.Alamat) \n",
    "            print(\"Jurusan : \"+ x.Jurusan) \n",
    "            print(\"----------------------\")"
   ]
  },
  {
   "cell_type": "code",
   "execution_count": 38,
   "metadata": {},
   "outputs": [],
   "source": [
    "saye = turunan()"
   ]
  },
  {
   "cell_type": "code",
   "execution_count": null,
   "metadata": {},
   "outputs": [
    {
     "name": "stdout",
     "output_type": "stream",
     "text": [
      "INPUT DATA MAHASISWA\n",
      "\n",
      "Keterangan Jurusan [1] Sistem Informasi [2] Teknik Informatika\n",
      "\n",
      "Nim :11190434\n",
      "Nama :eno\n"
     ]
    }
   ],
   "source": [
    "saye.Menampilkan_Data()"
   ]
  },
  {
   "cell_type": "code",
   "execution_count": null,
   "metadata": {},
   "outputs": [],
   "source": []
  },
  {
   "cell_type": "code",
   "execution_count": null,
   "metadata": {},
   "outputs": [],
   "source": []
  }
 ],
 "metadata": {
  "colab": {
   "collapsed_sections": [],
   "name": "Tugas_6.ipynb",
   "provenance": []
  },
  "kernelspec": {
   "display_name": "Python 3",
   "language": "python",
   "name": "python3"
  },
  "language_info": {
   "codemirror_mode": {
    "name": "ipython",
    "version": 3
   },
   "file_extension": ".py",
   "mimetype": "text/x-python",
   "name": "python",
   "nbconvert_exporter": "python",
   "pygments_lexer": "ipython3",
   "version": "3.8.3"
  }
 },
 "nbformat": 4,
 "nbformat_minor": 1
}
